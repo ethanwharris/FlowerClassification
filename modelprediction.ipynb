{
 "cells": [
  {
   "cell_type": "code",
   "execution_count": 2,
   "id": "5e397a09",
   "metadata": {},
   "outputs": [
    {
     "name": "stdout",
     "output_type": "stream",
     "text": [
      "['roses', 'roses']\n"
     ]
    }
   ],
   "source": [
    "from flash.image import ImageClassifier\n",
    "\n",
    "# load finetuned checkpoint\n",
    "model = ImageClassifier.load_from_checkpoint(\"image_classification_model.pt\")\n",
    "\n",
    "predictions = model.predict(\n",
    "    [\n",
    "        \"/home/jovyan/FlashFinetune/siora-photography-P8rPP_AllZw-unsplash.jpg\",\n",
    "        \"/home/jovyan/FlashFinetune/gabe-rebra-Dxsyq2sU4w4-unsplash.jpg\",\n",
    "    ]\n",
    ")\n",
    "print(predictions)\n"
   ]
  },
  {
   "cell_type": "code",
   "execution_count": null,
   "id": "9977f4c4",
   "metadata": {},
   "outputs": [],
   "source": []
  }
 ],
 "metadata": {
  "kernelspec": {
   "display_name": "Python 3 (ipykernel)",
   "language": "python",
   "name": "python3"
  },
  "language_info": {
   "codemirror_mode": {
    "name": "ipython",
    "version": 3
   },
   "file_extension": ".py",
   "mimetype": "text/x-python",
   "name": "python",
   "nbconvert_exporter": "python",
   "pygments_lexer": "ipython3",
   "version": "3.8.8"
  }
 },
 "nbformat": 4,
 "nbformat_minor": 5
}
