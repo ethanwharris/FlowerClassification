{
 "cells": [
  {
   "cell_type": "code",
   "execution_count": null,
   "id": "843b02b9",
   "metadata": {},
   "outputs": [
    {
     "name": "stderr",
     "output_type": "stream",
     "text": [
      "/home/jovyan/conda/lib/python3.8/site-packages/flash/core/model.py:397: LightningDeprecationWarning: The `LightningModule.datamodule` property is deprecated in v1.3 and will be removed in v1.5. Access the datamodule through using `self.trainer.datamodule` instead.\n",
      "  if self.datamodule is not None and getattr(self.datamodule, \"data_pipeline\", None) is not None:\n"
     ]
    }
   ],
   "source": [
    "from flash.image import ImageClassifier\n",
    "\n",
    "# load finetuned checkpoint\n",
    "model = ImageClassifier.load_from_checkpoint(\"image_classification_model.pt\")\n",
    "\n",
    "predictions = model.predict(\n",
    "    [\n",
    "        \"/home/jovyan/FlowerClassification/flowerjpg/siora-photography-P8rPP_AllZw-unsplash.jpg\",\n",
    "        \"/home/jovyan/FlowerClassification/flowerjpg/gabe-rebra-Dxsyq2sU4w4-unsplash.jpg\",\n",
    "        \"/home/jovyan/FlowerClassification/flowerjpg/amauri-mejia-PuAFBne1yQ8-unsplash.jpg\",\n",
    "        \"/home/jovyan/FlowerClassification/flowerjpg/charlotte-harrison-t46R1Ubnd5k-unsplash.jpg\",\n",
    "        \"/home/jovyan/FlowerClassification/flowerjpg/david-clode-lCC4GZWbmGs-unsplash.jpg\",\n",
    "        \"/home/jovyan/FlowerClassification/flowerjpg/di-maitland-Jt6u3jJWHl4-unsplash.jpg\",\n",
    "        \"/home/jovyan/FlowerClassification/flowerjpg/evgen-bryl-KGbj6fLQA9g-unsplash.jpg\",\n",
    "        \"/home/jovyan/FlowerClassification/flowerjpg/robert-thiemann-TTaxId0Im2s-unsplash.jpg\",\n",
    "        \"/home/jovyan/FlowerClassification/flowerjpg/safiyah-ganpat-cVjHaUw7R6A-unsplash.jpg\",\n",
    "        \"/home/jovyan/FlowerClassification/flowerjpg/sunky-chen-Raz3_ocwRl0-unsplash.jpg\",\n",
    "        \n",
    "    ]\n",
    ")\n",
    "print(predictions)\n"
   ]
  },
  {
   "cell_type": "code",
   "execution_count": null,
   "id": "dfe63c87",
   "metadata": {},
   "outputs": [],
   "source": []
  }
 ],
 "metadata": {
  "kernelspec": {
   "display_name": "Python 3 (ipykernel)",
   "language": "python",
   "name": "python3"
  },
  "language_info": {
   "codemirror_mode": {
    "name": "ipython",
    "version": 3
   },
   "file_extension": ".py",
   "mimetype": "text/x-python",
   "name": "python",
   "nbconvert_exporter": "python",
   "pygments_lexer": "ipython3",
   "version": "3.8.8"
  }
 },
 "nbformat": 4,
 "nbformat_minor": 5
}
