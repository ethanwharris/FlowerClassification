{
 "cells": [
  {
   "cell_type": "code",
   "execution_count": 1,
   "id": "62fbe775",
   "metadata": {},
   "outputs": [],
   "source": [
    "%reload_ext autoreload\n",
    "%autoreload 2\n",
    "%matplotlib inline"
   ]
  },
  {
   "cell_type": "code",
   "execution_count": 10,
   "id": "1b018e55",
   "metadata": {},
   "outputs": [
    {
     "name": "stdout",
     "output_type": "stream",
     "text": [
      "\u001b[33mWARNING: Ignoring invalid distribution -ornado (/home/jovyan/conda/lib/python3.8/site-packages)\u001b[0m\n",
      "\u001b[33mWARNING: Ignoring invalid distribution - (/home/jovyan/conda/lib/python3.8/site-packages)\u001b[0m\n",
      "\u001b[33mWARNING: Ignoring invalid distribution -ornado (/home/jovyan/conda/lib/python3.8/site-packages)\u001b[0m\n",
      "\u001b[33mWARNING: Ignoring invalid distribution - (/home/jovyan/conda/lib/python3.8/site-packages)\u001b[0m\n",
      "\u001b[33mWARNING: Ignoring invalid distribution -ornado (/home/jovyan/conda/lib/python3.8/site-packages)\u001b[0m\n",
      "\u001b[33mWARNING: Ignoring invalid distribution - (/home/jovyan/conda/lib/python3.8/site-packages)\u001b[0m\n",
      "\u001b[33mWARNING: Ignoring invalid distribution -ornado (/home/jovyan/conda/lib/python3.8/site-packages)\u001b[0m\n",
      "\u001b[33mWARNING: Ignoring invalid distribution - (/home/jovyan/conda/lib/python3.8/site-packages)\u001b[0m\n",
      "\u001b[33mWARNING: Ignoring invalid distribution -ornado (/home/jovyan/conda/lib/python3.8/site-packages)\u001b[0m\n",
      "\u001b[33mWARNING: Ignoring invalid distribution - (/home/jovyan/conda/lib/python3.8/site-packages)\u001b[0m\n",
      "\u001b[33mWARNING: Ignoring invalid distribution -ornado (/home/jovyan/conda/lib/python3.8/site-packages)\u001b[0m\n",
      "\u001b[33mWARNING: Ignoring invalid distribution - (/home/jovyan/conda/lib/python3.8/site-packages)\u001b[0m\n",
      "\u001b[33mWARNING: Ignoring invalid distribution -ornado (/home/jovyan/conda/lib/python3.8/site-packages)\u001b[0m\n",
      "\u001b[33mWARNING: Ignoring invalid distribution - (/home/jovyan/conda/lib/python3.8/site-packages)\u001b[0m\n",
      "\u001b[33mWARNING: Ignoring invalid distribution -ornado (/home/jovyan/conda/lib/python3.8/site-packages)\u001b[0m\n",
      "\u001b[33mWARNING: Ignoring invalid distribution - (/home/jovyan/conda/lib/python3.8/site-packages)\u001b[0m\n",
      "\u001b[33mWARNING: Ignoring invalid distribution -ornado (/home/jovyan/conda/lib/python3.8/site-packages)\u001b[0m\n",
      "\u001b[33mWARNING: Ignoring invalid distribution - (/home/jovyan/conda/lib/python3.8/site-packages)\u001b[0m\n",
      "\u001b[33mWARNING: Ignoring invalid distribution -ornado (/home/jovyan/conda/lib/python3.8/site-packages)\u001b[0m\n",
      "\u001b[33mWARNING: Ignoring invalid distribution - (/home/jovyan/conda/lib/python3.8/site-packages)\u001b[0m\n",
      "\u001b[33mWARNING: Ignoring invalid distribution -ornado (/home/jovyan/conda/lib/python3.8/site-packages)\u001b[0m\n",
      "\u001b[33mWARNING: Ignoring invalid distribution - (/home/jovyan/conda/lib/python3.8/site-packages)\u001b[0m\n",
      "\u001b[33mWARNING: Ignoring invalid distribution -ornado (/home/jovyan/conda/lib/python3.8/site-packages)\u001b[0m\n",
      "\u001b[33mWARNING: Ignoring invalid distribution - (/home/jovyan/conda/lib/python3.8/site-packages)\u001b[0m\n",
      "\u001b[33mWARNING: Ignoring invalid distribution -ornado (/home/jovyan/conda/lib/python3.8/site-packages)\u001b[0m\n",
      "\u001b[33mWARNING: Ignoring invalid distribution - (/home/jovyan/conda/lib/python3.8/site-packages)\u001b[0m\n",
      "\u001b[33mWARNING: Ignoring invalid distribution -ornado (/home/jovyan/conda/lib/python3.8/site-packages)\u001b[0m\n",
      "\u001b[33mWARNING: Ignoring invalid distribution - (/home/jovyan/conda/lib/python3.8/site-packages)\u001b[0m\n",
      "\u001b[33mWARNING: Ignoring invalid distribution -ornado (/home/jovyan/conda/lib/python3.8/site-packages)\u001b[0m\n",
      "\u001b[33mWARNING: Ignoring invalid distribution - (/home/jovyan/conda/lib/python3.8/site-packages)\u001b[0m\n",
      "\u001b[33mWARNING: Ignoring invalid distribution -ornado (/home/jovyan/conda/lib/python3.8/site-packages)\u001b[0m\n",
      "\u001b[33mWARNING: Ignoring invalid distribution - (/home/jovyan/conda/lib/python3.8/site-packages)\u001b[0m\n",
      "\u001b[33mWARNING: Ignoring invalid distribution -ornado (/home/jovyan/conda/lib/python3.8/site-packages)\u001b[0m\n",
      "\u001b[33mWARNING: Ignoring invalid distribution - (/home/jovyan/conda/lib/python3.8/site-packages)\u001b[0m\n",
      "\u001b[33mWARNING: Ignoring invalid distribution -ornado (/home/jovyan/conda/lib/python3.8/site-packages)\u001b[0m\n",
      "\u001b[33mWARNING: Ignoring invalid distribution - (/home/jovyan/conda/lib/python3.8/site-packages)\u001b[0m\n"
     ]
    }
   ],
   "source": [
    "!pip install opendatasets -q\n",
    "!pip install kaggle -q\n",
    "!pip install --user kaggle -q"
   ]
  },
  {
   "cell_type": "code",
   "execution_count": 2,
   "id": "f5838cb3",
   "metadata": {},
   "outputs": [],
   "source": [
    "import opendatasets as od\n",
    "import os\n",
    "import shutil\n",
    "#import glob\n",
    "from shutil import copyfile\n",
    "from distutils.dir_util import copy_tree\n",
    "import fnmatch \n",
    "import numpy as np\n",
    "import flash\n",
    "#Convert Zip Files \n",
    "from zipfile import ZipFile "
   ]
  },
  {
   "cell_type": "code",
   "execution_count": 3,
   "id": "2452cbeb",
   "metadata": {},
   "outputs": [
    {
     "name": "stdout",
     "output_type": "stream",
     "text": [
      "Warning: Your Kaggle API key is readable by other users on this system! To fix this, you can run 'chmod 600 /home/jovyan/.kaggle/kaggle.json'\n",
      "Warning: Your Kaggle API key is readable by other users on this system! To fix this, you can run 'chmod 600 /home/jovyan/.kaggle/kaggle.json'\n"
     ]
    }
   ],
   "source": [
    "#Connect to Kaggle Api\n",
    "from kaggle.api.kaggle_api_extended import KaggleApi\n",
    "api = KaggleApi ()\n",
    "api.authenticate ()"
   ]
  },
  {
   "cell_type": "code",
   "execution_count": 8,
   "id": "7a6296da",
   "metadata": {},
   "outputs": [],
   "source": [
    "api.dataset_download_files('sauravagarwal/flower-classification')"
   ]
  },
  {
   "cell_type": "code",
   "execution_count": 9,
   "id": "b98450b0",
   "metadata": {},
   "outputs": [],
   "source": [
    "api.dataset_download_files('aksha05/flower-image-dataset')"
   ]
  },
  {
   "cell_type": "code",
   "execution_count": 16,
   "id": "7f9a1414",
   "metadata": {},
   "outputs": [
    {
     "name": "stdout",
     "output_type": "stream",
     "text": [
      "/home/jovyan/mlproject/FlowerClassification\n"
     ]
    }
   ],
   "source": [
    "#unzip the dataset flower-classification\n",
    "main_dir = \"/home/jovyan/mlproject/FlowerClassification\"\n",
    "if not os.path.exists('flower-classification'):\n",
    "         os.mkdir('flower-classification')\n",
    "flower_classification_zip = main_dir + \"/flower-classification.zip\"\n",
    "with ZipFile(flower_classification_zip, 'r') as zip:\n",
    "    zip.extractall(main_dir + \"/flower-classification\")"
   ]
  },
  {
   "cell_type": "code",
   "execution_count": 17,
   "id": "a9e4314f",
   "metadata": {},
   "outputs": [],
   "source": [
    "#unzip the dataset flower-image-dataset\n",
    "if not os.path.exists('flower-image-dataset'):\n",
    "         os.mkdir('flower-image-dataset')\n",
    "flower_classification_zip='/home/jovyan/mlproject/FlowerClassification/flower-image-dataset.zip'\n",
    "with ZipFile(flower_classification_zip, 'r') as zip:\n",
    "    zip.extractall('/home/jovyan/mlproject/FlowerClassification/flower-image-dataset')"
   ]
  },
  {
   "cell_type": "code",
   "execution_count": 6,
   "id": "a2f6b984",
   "metadata": {},
   "outputs": [],
   "source": [
    "main_dir = os.getcwd()\n",
    "src_dir = os.getcwd()\n",
    "flower_classification_dir = src_dir+\"/flower-classification/flowers/flowers/flower_photos\"\n",
    "flower_image_dir = src_dir+\"/flower-image-dataset/flowers\"\n"
   ]
  },
  {
   "cell_type": "code",
   "execution_count": 7,
   "id": "9986c604",
   "metadata": {},
   "outputs": [],
   "source": [
    "# create a dir where we want to copy dataset\n",
    "os.chdir(main_dir)\n",
    "if not os.path.exists('flower-dataset'):\n",
    "    dest_dir1 = os.mkdir('flower-dataset')\n",
    "final_dir = main_dir+\"/flower-dataset\" \n",
    "os.chdir(final_dir)\n",
    "myflower = ('roses', 'tulips', 'sunflowers')\n",
    "my_test_dir = ('test', 'train','validation')\n",
    "for x in myflower: \n",
    "  if not os.path.exists(x):\n",
    "    dest_dir = os.mkdir(x)\n",
    "    for y in my_test_dir:\n",
    "        src1 = flower_classification_dir+\"/\"+y+\"/\"+x\n",
    "        dst1 = final_dir+\"/\"+x\n",
    "        copy_tree(src1, dst1)  \n",
    "        \n",
    "#Copy the bougianvillea dataset \n",
    "flowernameb = \"bougainvillea\"\n",
    "if not os.path.exists(flowernameb):\n",
    "    dest_dir2 = os.mkdir(flowernameb)\n",
    "    src2 = flower_image_dir\n",
    "    dst2 = final_dir+\"/\"+flowernameb+\"/\"\n",
    "    os.chdir(src2)\n",
    "    files = fnmatch.filter(os.listdir('.'), \"b*\")\n",
    "    for file in files:\n",
    "        shutil.copy(file, dst2)\n",
    "        \n",
    "#Copy the hibicus dataset         \n",
    "os.chdir(final_dir)        \n",
    "flowernameh = \"hibiscus\"\n",
    "if not os.path.exists(flowernameh):\n",
    "    dest_dir3 = os.mkdir(flowernameh)\n",
    "    src3 = flower_image_dir\n",
    "    dst3 = final_dir+\"/\"+flowernameh+\"/\"\n",
    "    os.chdir(src3)\n",
    "    files = fnmatch.filter(os.listdir('.'), \"hi*\")\n",
    "    for file in files:\n",
    "        shutil.copy(file, dst3)"
   ]
  },
  {
   "cell_type": "code",
   "execution_count": 8,
   "id": "a977c2f8",
   "metadata": {},
   "outputs": [],
   "source": [
    "#Path to the dataset folder\n",
    "rootdir= '/home/jovyan/mlproject/FlowerClassification/flower-dataset' #path of the original folder\n",
    "#Classes to Split data between train, test, val\n",
    "classes = [ 'roses','sunflowers', 'tulips']\n",
    "\n",
    "for i in classes:\n",
    "    os.makedirs(rootdir +'/train/' + i)\n",
    "    os.makedirs(rootdir +'/test/' + i)\n",
    "    os.makedirs(rootdir +'/val/' + i)\n",
    "\n",
    "    source = rootdir + '/' + i\n",
    "\n",
    "    allFileNames = os.listdir(source)\n",
    "    np.random.shuffle(allFileNames)\n",
    "\n",
    "    train_ratio = 0.8\n",
    "    test_ratio = 0.15\n",
    "    val_ratio =  0.5\n",
    "\n",
    "                                                               \n",
    "    train_FileNames, val_FileNames, test_FileNames = np.split(np.array(allFileNames),\n",
    "                                                              [int(len(allFileNames)* (1 - val_ratio + test_ratio)), \n",
    "                                                               int(len(allFileNames)* (1 - test_ratio))])\n",
    "                                                                                  \n",
    "    train_FileNames = [source+'/'+ name for name in train_FileNames.tolist()]\n",
    "    test_FileNames = [source+'/' + name for name in test_FileNames.tolist()]\n",
    "    val_FileNames = [source+'/' + name for name in val_FileNames.tolist()]\n",
    "        \n",
    "    for name in train_FileNames:\n",
    "      shutil.copy(name, rootdir +'/train/' + i)\n",
    "\n",
    "    for name in test_FileNames:\n",
    "      shutil.copy(name, rootdir +'/test/' + i)\n",
    "                                                                                  \n",
    "    for name in val_FileNames:\n",
    "        shutil.copy(name, rootdir +'/val/' + i)"
   ]
  },
  {
   "cell_type": "code",
   "execution_count": 9,
   "id": "79c3647b",
   "metadata": {},
   "outputs": [],
   "source": [
    "#Path to the dataset folder\n",
    "rootdir= '/home/jovyan/mlproject/FlowerClassification/flower-dataset' #path of the original folder\n",
    "classes = [ 'bougainvillea', 'hibiscus']\n",
    "\n",
    "for i in classes:\n",
    "    os.makedirs(rootdir +'/train/' + i)\n",
    "    os.makedirs(rootdir +'/test/' + i)\n",
    "    os.makedirs(rootdir +'/val/' + i)\n",
    "    source = rootdir + '/' + i\n",
    "    allFileNames = os.listdir(source)\n",
    "    np.random.shuffle(allFileNames)\n",
    "\n",
    "    train_ratio = 0.8\n",
    "    test_ratio = 0.15\n",
    "    val_ratio =  0.5\n",
    "                                                               \n",
    "    train_FileNames, val_FileNames, test_FileNames = np.split(np.array(allFileNames),\n",
    "                                                              [int(len(allFileNames)* (1 - val_ratio + test_ratio)), \n",
    "                                                               int(len(allFileNames)* (1 - test_ratio))])\n",
    "                                                                                  \n",
    "    train_FileNames = [source+'/'+ name for name in train_FileNames.tolist()]\n",
    "    test_FileNames = [source+'/' + name for name in test_FileNames.tolist()]\n",
    "    val_FileNames = [source+'/' + name for name in val_FileNames.tolist()]\n",
    "        \n",
    "    for name in train_FileNames:\n",
    "      shutil.copy(name, rootdir +'/train/' + i)\n",
    "\n",
    "    for name in test_FileNames:\n",
    "      shutil.copy(name, rootdir +'/test/' + i)\n",
    "                                                                                  \n",
    "    for name in val_FileNames:\n",
    "        shutil.copy(name, rootdir +'/val/' + i)"
   ]
  },
  {
   "cell_type": "code",
   "execution_count": 24,
   "id": "0efaf4dd",
   "metadata": {},
   "outputs": [
    {
     "name": "stdout",
     "output_type": "stream",
     "text": [
      "\u001b[2K\u001b[1;34mupload\u001b[0m \u001b[90m━━━━━━━━━━━━━━━━━━━━━━━━━━━━━━━━━━━━━━━━━━━━━━━━━━━━━━━━━━━━━━━━━━\u001b[0m 100.0%m\u001b[90m━━\u001b[0m 96.9%\n",
      "\u001b[K\u001b[?25h\u001b[33m✔\u001b[0m Finished uploading datastore.d...\u001b[Kto S3...\u001b[K\n",
      "\u001b[K\u001b[?25h"
     ]
    }
   ],
   "source": [
    "\n",
    "#!pip3 install lightning-grid --upgrade\n",
    "!grid datastore create --source /home/jovyan/mlproject/FlowerClassification/flower-dataset --name datastore"
   ]
  }
 ],
 "metadata": {
  "kernelspec": {
   "display_name": "Python 3 (ipykernel)",
   "language": "python",
   "name": "python3"
  },
  "language_info": {
   "codemirror_mode": {
    "name": "ipython",
    "version": 3
   },
   "file_extension": ".py",
   "mimetype": "text/x-python",
   "name": "python",
   "nbconvert_exporter": "python",
   "pygments_lexer": "ipython3",
   "version": "3.8.8"
  }
 },
 "nbformat": 4,
 "nbformat_minor": 5
}
