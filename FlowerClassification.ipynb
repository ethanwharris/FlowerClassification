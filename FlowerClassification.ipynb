{
 "cells": [
  {
   "cell_type": "code",
   "execution_count": 1,
   "id": "98b28739",
   "metadata": {},
   "outputs": [],
   "source": [
    "%reload_ext autoreload\n",
    "%autoreload 2\n",
    "%matplotlib inline"
   ]
  },
  {
   "cell_type": "code",
   "execution_count": 2,
   "id": "93fd9625",
   "metadata": {},
   "outputs": [
    {
     "name": "stdout",
     "output_type": "stream",
     "text": [
      "\u001b[33mWARNING: Ignoring invalid distribution -ornado (/home/jovyan/conda/lib/python3.8/site-packages)\u001b[0m\n",
      "\u001b[33mWARNING: Ignoring invalid distribution - (/home/jovyan/conda/lib/python3.8/site-packages)\u001b[0m\n",
      "\u001b[33mWARNING: Ignoring invalid distribution -ornado (/home/jovyan/conda/lib/python3.8/site-packages)\u001b[0m\n",
      "\u001b[33mWARNING: Ignoring invalid distribution - (/home/jovyan/conda/lib/python3.8/site-packages)\u001b[0m\n",
      "\u001b[33mWARNING: Ignoring invalid distribution -ornado (/home/jovyan/conda/lib/python3.8/site-packages)\u001b[0m\n",
      "\u001b[33mWARNING: Ignoring invalid distribution - (/home/jovyan/conda/lib/python3.8/site-packages)\u001b[0m\n",
      "\u001b[33mWARNING: Ignoring invalid distribution -ornado (/home/jovyan/conda/lib/python3.8/site-packages)\u001b[0m\n",
      "\u001b[33mWARNING: Ignoring invalid distribution - (/home/jovyan/conda/lib/python3.8/site-packages)\u001b[0m\n",
      "\u001b[33mWARNING: Ignoring invalid distribution -ornado (/home/jovyan/conda/lib/python3.8/site-packages)\u001b[0m\n",
      "\u001b[33mWARNING: Ignoring invalid distribution - (/home/jovyan/conda/lib/python3.8/site-packages)\u001b[0m\n",
      "\u001b[33mWARNING: Ignoring invalid distribution -ornado (/home/jovyan/conda/lib/python3.8/site-packages)\u001b[0m\n",
      "\u001b[33mWARNING: Ignoring invalid distribution - (/home/jovyan/conda/lib/python3.8/site-packages)\u001b[0m\n",
      "\u001b[33mWARNING: Ignoring invalid distribution -ornado (/home/jovyan/conda/lib/python3.8/site-packages)\u001b[0m\n",
      "\u001b[33mWARNING: Ignoring invalid distribution - (/home/jovyan/conda/lib/python3.8/site-packages)\u001b[0m\n",
      "\u001b[33mWARNING: Ignoring invalid distribution -ornado (/home/jovyan/conda/lib/python3.8/site-packages)\u001b[0m\n",
      "\u001b[33mWARNING: Ignoring invalid distribution - (/home/jovyan/conda/lib/python3.8/site-packages)\u001b[0m\n",
      "\u001b[33mWARNING: Ignoring invalid distribution -ornado (/home/jovyan/conda/lib/python3.8/site-packages)\u001b[0m\n",
      "\u001b[33mWARNING: Ignoring invalid distribution - (/home/jovyan/conda/lib/python3.8/site-packages)\u001b[0m\n",
      "\u001b[33mWARNING: Ignoring invalid distribution -ornado (/home/jovyan/conda/lib/python3.8/site-packages)\u001b[0m\n",
      "\u001b[33mWARNING: Ignoring invalid distribution - (/home/jovyan/conda/lib/python3.8/site-packages)\u001b[0m\n",
      "\u001b[33mWARNING: Ignoring invalid distribution -ornado (/home/jovyan/conda/lib/python3.8/site-packages)\u001b[0m\n",
      "\u001b[33mWARNING: Ignoring invalid distribution - (/home/jovyan/conda/lib/python3.8/site-packages)\u001b[0m\n",
      "\u001b[33mWARNING: Ignoring invalid distribution -ornado (/home/jovyan/conda/lib/python3.8/site-packages)\u001b[0m\n",
      "\u001b[33mWARNING: Ignoring invalid distribution - (/home/jovyan/conda/lib/python3.8/site-packages)\u001b[0m\n",
      "\u001b[33mWARNING: Ignoring invalid distribution -ornado (/home/jovyan/conda/lib/python3.8/site-packages)\u001b[0m\n",
      "\u001b[33mWARNING: Ignoring invalid distribution - (/home/jovyan/conda/lib/python3.8/site-packages)\u001b[0m\n",
      "\u001b[33mWARNING: Ignoring invalid distribution -ornado (/home/jovyan/conda/lib/python3.8/site-packages)\u001b[0m\n",
      "\u001b[33mWARNING: Ignoring invalid distribution - (/home/jovyan/conda/lib/python3.8/site-packages)\u001b[0m\n",
      "\u001b[33mWARNING: Ignoring invalid distribution -ornado (/home/jovyan/conda/lib/python3.8/site-packages)\u001b[0m\n",
      "\u001b[33mWARNING: Ignoring invalid distribution - (/home/jovyan/conda/lib/python3.8/site-packages)\u001b[0m\n",
      "\u001b[33mWARNING: Ignoring invalid distribution -ornado (/home/jovyan/conda/lib/python3.8/site-packages)\u001b[0m\n",
      "\u001b[33mWARNING: Ignoring invalid distribution - (/home/jovyan/conda/lib/python3.8/site-packages)\u001b[0m\n",
      "\u001b[33mWARNING: Ignoring invalid distribution -ornado (/home/jovyan/conda/lib/python3.8/site-packages)\u001b[0m\n",
      "\u001b[33mWARNING: Ignoring invalid distribution - (/home/jovyan/conda/lib/python3.8/site-packages)\u001b[0m\n",
      "\u001b[33mWARNING: Ignoring invalid distribution -ornado (/home/jovyan/conda/lib/python3.8/site-packages)\u001b[0m\n",
      "\u001b[33mWARNING: Ignoring invalid distribution - (/home/jovyan/conda/lib/python3.8/site-packages)\u001b[0m\n"
     ]
    }
   ],
   "source": [
    "!pip install opendatasets -q\n",
    "!pip install kaggle -q\n",
    "!pip install --user kaggle -q"
   ]
  },
  {
   "cell_type": "code",
   "execution_count": 7,
   "id": "b2a18603",
   "metadata": {},
   "outputs": [],
   "source": [
    "import opendatasets as od\n",
    "import os\n",
    "import shutil\n",
    "#import glob\n",
    "from shutil import copyfile\n",
    "from distutils.dir_util import copy_tree\n",
    "import fnmatch \n",
    "import numpy as np\n",
    "import flash\n",
    "#Convert Zip Files \n",
    "from zipfile import ZipFile "
   ]
  },
  {
   "cell_type": "code",
   "execution_count": 3,
   "id": "2fbb90ee",
   "metadata": {},
   "outputs": [
    {
     "name": "stdout",
     "output_type": "stream",
     "text": [
      "Warning: Your Kaggle API key is readable by other users on this system! To fix this, you can run 'chmod 600 /home/jovyan/.kaggle/kaggle.json'\n",
      "Warning: Your Kaggle API key is readable by other users on this system! To fix this, you can run 'chmod 600 /home/jovyan/.kaggle/kaggle.json'\n"
     ]
    }
   ],
   "source": [
    "#Connect to Kaggle Api\n",
    "from kaggle.api.kaggle_api_extended import KaggleApi\n",
    "api = KaggleApi ()\n",
    "api.authenticate ()"
   ]
  },
  {
   "cell_type": "code",
   "execution_count": 4,
   "id": "3a60d930",
   "metadata": {},
   "outputs": [],
   "source": [
    "api.dataset_download_files('sauravagarwal/flower-classification')"
   ]
  },
  {
   "cell_type": "code",
   "execution_count": 5,
   "id": "d554dfd5",
   "metadata": {},
   "outputs": [],
   "source": [
    "api.dataset_download_files('aksha05/flower-image-dataset')"
   ]
  },
  {
   "cell_type": "code",
   "execution_count": 23,
   "id": "fa0c3e68",
   "metadata": {},
   "outputs": [
    {
     "name": "stdout",
     "output_type": "stream",
     "text": [
      "/home/jovyan/Github/FlowerClassification\n"
     ]
    }
   ],
   "source": [
    "#unzip the dataset flower-classification\n",
    "main_dir = \"/home/jovyan/FlowerClassification\"\n",
    "os.chdir(main_dir)\n",
    "print(main_dir)\n",
    "if not os.path.exists('flower-classification'):\n",
    "         os.mkdir('flower-classification')\n",
    "flower_classification_zip = main_dir + \"/flower-classification.zip\"\n",
    "#flower_classification_zip = 'flower-classification.zip'\n",
    "with ZipFile(flower_classification_zip, 'r') as zip:\n",
    "    zip.extractall(main_dir + \"/flower-classification\")"
   ]
  },
  {
   "cell_type": "code",
   "execution_count": 26,
   "id": "48e95a4e",
   "metadata": {},
   "outputs": [],
   "source": [
    "#unzip the dataset flower-image-dataset\n",
    "main_dir1 = \"/home/jovyan/FlowerClassification\"\n",
    "#main_dir1 = os.getcwd()\n",
    "if not os.path.exists('flower-image-dataset'):\n",
    "         os.mkdir('flower-image-dataset')\n",
    "flower_classification_zip= main_dir1 + \"/flower-image-dataset.zip\"\n",
    "with ZipFile(flower_classification_zip, 'r') as zip:\n",
    "    #zip.extractall('/home/jovyan/mlproject/FlowerClassification/flower-image-dataset')\n",
    "    zip.extractall(main_dir1 + \"/flower-image-dataset\")"
   ]
  },
  {
   "cell_type": "code",
   "execution_count": 27,
   "id": "8f1c2c60",
   "metadata": {},
   "outputs": [],
   "source": [
    "main_dir = os.getcwd()\n",
    "src_dir = os.getcwd()\n",
    "flower_classification_dir = src_dir+\"/flower-classification/flowers/flowers/flower_photos\"\n",
    "flower_image_dir = src_dir+\"/flower-image-dataset/flowers\"\n"
   ]
  },
  {
   "cell_type": "code",
   "execution_count": 28,
   "id": "20a291c4",
   "metadata": {},
   "outputs": [],
   "source": [
    "# create a dir where we want to copy dataset\n",
    "os.chdir(main_dir)\n",
    "if not os.path.exists('flower-dataset'):\n",
    "    dest_dir1 = os.mkdir('flower-dataset')\n",
    "final_dir = main_dir+\"/flower-dataset\" \n",
    "os.chdir(final_dir)\n",
    "myflower = ('roses', 'tulips', 'sunflowers')\n",
    "my_test_dir = ('test', 'train','validation')\n",
    "for x in myflower: \n",
    "  if not os.path.exists(x):\n",
    "    dest_dir = os.mkdir(x)\n",
    "    for y in my_test_dir:\n",
    "        src1 = flower_classification_dir+\"/\"+y+\"/\"+x\n",
    "        dst1 = final_dir+\"/\"+x\n",
    "        copy_tree(src1, dst1)  \n",
    "        \n",
    "#Copy the bougianvillea dataset \n",
    "flowernameb = \"bougainvillea\"\n",
    "if not os.path.exists(flowernameb):\n",
    "    dest_dir2 = os.mkdir(flowernameb)\n",
    "    src2 = flower_image_dir\n",
    "    dst2 = final_dir+\"/\"+flowernameb+\"/\"\n",
    "    os.chdir(src2)\n",
    "    files = fnmatch.filter(os.listdir('.'), \"b*\")\n",
    "    for file in files:\n",
    "        shutil.copy(file, dst2)\n",
    "        \n",
    "#Copy the hibicus dataset         \n",
    "os.chdir(final_dir)        \n",
    "flowernameh = \"hibiscus\"\n",
    "if not os.path.exists(flowernameh):\n",
    "    dest_dir3 = os.mkdir(flowernameh)\n",
    "    src3 = flower_image_dir\n",
    "    dst3 = final_dir+\"/\"+flowernameh+\"/\"\n",
    "    os.chdir(src3)\n",
    "    files = fnmatch.filter(os.listdir('.'), \"hi*\")\n",
    "    for file in files:\n",
    "        shutil.copy(file, dst3)"
   ]
  },
  {
   "cell_type": "code",
   "execution_count": 30,
   "id": "296d87d3",
   "metadata": {},
   "outputs": [],
   "source": [
    "#Path to the dataset folder\n",
    "rootdir= '/home/jovyan/FlowerClassification/flower-dataset' #path of the original folder\n",
    "#Classes to Split data between train, test, val\n",
    "classes = [ 'roses','sunflowers', 'tulips']\n",
    "\n",
    "for i in classes:\n",
    "    os.makedirs(rootdir +'/train/' + i)\n",
    "    os.makedirs(rootdir +'/test/' + i)\n",
    "    os.makedirs(rootdir +'/val/' + i)\n",
    "\n",
    "    source = rootdir + '/' + i\n",
    "\n",
    "    allFileNames = os.listdir(source)\n",
    "    np.random.shuffle(allFileNames)\n",
    "\n",
    "    train_ratio = 0.8\n",
    "    test_ratio = 0.15\n",
    "    val_ratio =  0.5\n",
    "\n",
    "                                                               \n",
    "    train_FileNames, val_FileNames, test_FileNames = np.split(np.array(allFileNames),\n",
    "                                                              [int(len(allFileNames)* (1 - val_ratio + test_ratio)), \n",
    "                                                               int(len(allFileNames)* (1 - test_ratio))])\n",
    "                                                                                  \n",
    "    train_FileNames = [source+'/'+ name for name in train_FileNames.tolist()]\n",
    "    test_FileNames = [source+'/' + name for name in test_FileNames.tolist()]\n",
    "    val_FileNames = [source+'/' + name for name in val_FileNames.tolist()]\n",
    "        \n",
    "    for name in train_FileNames:\n",
    "      shutil.copy(name, rootdir +'/train/' + i)\n",
    "\n",
    "    for name in test_FileNames:\n",
    "      shutil.copy(name, rootdir +'/test/' + i)\n",
    "                                                                                  \n",
    "    for name in val_FileNames:\n",
    "        shutil.copy(name, rootdir +'/val/' + i)"
   ]
  },
  {
   "cell_type": "code",
   "execution_count": 32,
   "id": "afb4c683",
   "metadata": {},
   "outputs": [],
   "source": [
    "#Path to the dataset folder\n",
    "rootdir= '/home/jovyan/FlowerClassification/flower-dataset' #path of the original folder\n",
    "classes = [ 'bougainvillea', 'hibiscus']\n",
    "\n",
    "for i in classes:\n",
    "    os.makedirs(rootdir +'/train/' + i)\n",
    "    os.makedirs(rootdir +'/test/' + i)\n",
    "    os.makedirs(rootdir +'/val/' + i)\n",
    "    source = rootdir + '/' + i\n",
    "    allFileNames = os.listdir(source)\n",
    "    np.random.shuffle(allFileNames)\n",
    "\n",
    "    train_ratio = 0.8\n",
    "    test_ratio = 0.15\n",
    "    val_ratio =  0.5\n",
    "                                                               \n",
    "    train_FileNames, val_FileNames, test_FileNames = np.split(np.array(allFileNames),\n",
    "                                                              [int(len(allFileNames)* (1 - val_ratio + test_ratio)), \n",
    "                                                               int(len(allFileNames)* (1 - test_ratio))])\n",
    "                                                                                  \n",
    "    train_FileNames = [source+'/'+ name for name in train_FileNames.tolist()]\n",
    "    test_FileNames = [source+'/' + name for name in test_FileNames.tolist()]\n",
    "    val_FileNames = [source+'/' + name for name in val_FileNames.tolist()]\n",
    "        \n",
    "    for name in train_FileNames:\n",
    "      shutil.copy(name, rootdir +'/train/' + i)\n",
    "\n",
    "    for name in test_FileNames:\n",
    "      shutil.copy(name, rootdir +'/test/' + i)\n",
    "                                                                                  \n",
    "    for name in val_FileNames:\n",
    "        shutil.copy(name, rootdir +'/val/' + i)"
   ]
  },
  {
   "cell_type": "code",
   "execution_count": 33,
   "id": "546200bd",
   "metadata": {},
   "outputs": [
    {
     "name": "stdout",
     "output_type": "stream",
     "text": [
      "\u001b[2K\u001b[1;34mupload\u001b[0m \u001b[90m━━━━━━━━━━━━━━━━━━━━━━━━━━━━━━━━━━━━━━━━━━━━━━━━━━━━━━━━━━━━━━━━━━\u001b[0m 100.0%m\u001b[90m━━\u001b[0m 96.9%\n",
      "\u001b[K\u001b[?25h\u001b[33m✔\u001b[0m Finished uploading datastore.d...\u001b[Ktore to S3...\u001b[K\n",
      "\u001b[K\u001b[?25h"
     ]
    }
   ],
   "source": [
    "\n",
    "#!pip3 install lightning-grid --upgrade\n",
    "!grid datastore create --source /home/jovyan/mlproject/FlowerClassification/flower-dataset --name flower-dataset"
   ]
  },
  {
   "cell_type": "code",
   "execution_count": null,
   "id": "f793d5a7",
   "metadata": {},
   "outputs": [],
   "source": []
  }
 ],
 "metadata": {
  "kernelspec": {
   "display_name": "Python 3 (ipykernel)",
   "language": "python",
   "name": "python3"
  },
  "language_info": {
   "codemirror_mode": {
    "name": "ipython",
    "version": 3
   },
   "file_extension": ".py",
   "mimetype": "text/x-python",
   "name": "python",
   "nbconvert_exporter": "python",
   "pygments_lexer": "ipython3",
   "version": "3.8.8"
  }
 },
 "nbformat": 4,
 "nbformat_minor": 5
}
