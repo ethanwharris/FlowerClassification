{
 "cells": [
  {
   "cell_type": "code",
   "execution_count": 16,
   "id": "19cee7b2",
   "metadata": {},
   "outputs": [
    {
     "name": "stdout",
     "output_type": "stream",
     "text": [
      "\u001b[33mWARNING: Ignoring invalid distribution -ornado (/home/jovyan/conda/lib/python3.8/site-packages)\u001b[0m\n",
      "\u001b[33mWARNING: Ignoring invalid distribution - (/home/jovyan/conda/lib/python3.8/site-packages)\u001b[0m\n",
      "\u001b[33mWARNING: Ignoring invalid distribution -ornado (/home/jovyan/conda/lib/python3.8/site-packages)\u001b[0m\n",
      "\u001b[33mWARNING: Ignoring invalid distribution - (/home/jovyan/conda/lib/python3.8/site-packages)\u001b[0m\n",
      "\u001b[33mWARNING: Ignoring invalid distribution -ornado (/home/jovyan/conda/lib/python3.8/site-packages)\u001b[0m\n",
      "\u001b[33mWARNING: Ignoring invalid distribution - (/home/jovyan/conda/lib/python3.8/site-packages)\u001b[0m\n",
      "\u001b[33mWARNING: Ignoring invalid distribution -ornado (/home/jovyan/conda/lib/python3.8/site-packages)\u001b[0m\n",
      "\u001b[33mWARNING: Ignoring invalid distribution - (/home/jovyan/conda/lib/python3.8/site-packages)\u001b[0m\n",
      "\u001b[33mWARNING: Ignoring invalid distribution -ornado (/home/jovyan/conda/lib/python3.8/site-packages)\u001b[0m\n",
      "\u001b[33mWARNING: Ignoring invalid distribution - (/home/jovyan/conda/lib/python3.8/site-packages)\u001b[0m\n",
      "\u001b[33mWARNING: Ignoring invalid distribution -ornado (/home/jovyan/conda/lib/python3.8/site-packages)\u001b[0m\n",
      "\u001b[33mWARNING: Ignoring invalid distribution - (/home/jovyan/conda/lib/python3.8/site-packages)\u001b[0m\n",
      "Note: you may need to restart the kernel to use updated packages.\n",
      "\u001b[33mWARNING: Ignoring invalid distribution -ornado (/home/jovyan/conda/lib/python3.8/site-packages)\u001b[0m\n",
      "\u001b[33mWARNING: Ignoring invalid distribution - (/home/jovyan/conda/lib/python3.8/site-packages)\u001b[0m\n",
      "\u001b[33mWARNING: Ignoring invalid distribution -ornado (/home/jovyan/conda/lib/python3.8/site-packages)\u001b[0m\n",
      "\u001b[33mWARNING: Ignoring invalid distribution - (/home/jovyan/conda/lib/python3.8/site-packages)\u001b[0m\n",
      "\u001b[33mWARNING: Ignoring invalid distribution -ornado (/home/jovyan/conda/lib/python3.8/site-packages)\u001b[0m\n",
      "\u001b[33mWARNING: Ignoring invalid distribution - (/home/jovyan/conda/lib/python3.8/site-packages)\u001b[0m\n",
      "\u001b[33mWARNING: Ignoring invalid distribution -ornado (/home/jovyan/conda/lib/python3.8/site-packages)\u001b[0m\n",
      "\u001b[33mWARNING: Ignoring invalid distribution - (/home/jovyan/conda/lib/python3.8/site-packages)\u001b[0m\n",
      "\u001b[33mWARNING: Ignoring invalid distribution -ornado (/home/jovyan/conda/lib/python3.8/site-packages)\u001b[0m\n",
      "\u001b[33mWARNING: Ignoring invalid distribution - (/home/jovyan/conda/lib/python3.8/site-packages)\u001b[0m\n",
      "\u001b[33mWARNING: Ignoring invalid distribution -ornado (/home/jovyan/conda/lib/python3.8/site-packages)\u001b[0m\n",
      "\u001b[33mWARNING: Ignoring invalid distribution - (/home/jovyan/conda/lib/python3.8/site-packages)\u001b[0m\n",
      "Note: you may need to restart the kernel to use updated packages.\n",
      "\u001b[33mWARNING: Ignoring invalid distribution -ornado (/home/jovyan/conda/lib/python3.8/site-packages)\u001b[0m\n",
      "\u001b[33mWARNING: Ignoring invalid distribution - (/home/jovyan/conda/lib/python3.8/site-packages)\u001b[0m\n",
      "\u001b[33mWARNING: Ignoring invalid distribution -ornado (/home/jovyan/conda/lib/python3.8/site-packages)\u001b[0m\n",
      "\u001b[33mWARNING: Ignoring invalid distribution - (/home/jovyan/conda/lib/python3.8/site-packages)\u001b[0m\n",
      "Note: you may need to restart the kernel to use updated packages.\n",
      "\u001b[33mWARNING: Ignoring invalid distribution -ornado (/home/jovyan/conda/lib/python3.8/site-packages)\u001b[0m\n",
      "\u001b[33mWARNING: Ignoring invalid distribution - (/home/jovyan/conda/lib/python3.8/site-packages)\u001b[0m\n",
      "\u001b[33mWARNING: Ignoring invalid distribution -ornado (/home/jovyan/conda/lib/python3.8/site-packages)\u001b[0m\n",
      "\u001b[33mWARNING: Ignoring invalid distribution - (/home/jovyan/conda/lib/python3.8/site-packages)\u001b[0m\n",
      "Collecting lightning-flash[image]\n",
      "  Cloning https://github.com/PyTorchLightning/lightning-flash.git to /tmp/pip-install-tpk18n9f/lightning-flash_3ff78ec99b494946ba728b77e331ed2e\n",
      "  Running command git clone -q https://github.com/PyTorchLightning/lightning-flash.git /tmp/pip-install-tpk18n9f/lightning-flash_3ff78ec99b494946ba728b77e331ed2e\n",
      "  Resolved https://github.com/PyTorchLightning/lightning-flash.git to commit ddd942d3dfe3884a97a855446410166c3c9f16d9\n",
      "  Installing build dependencies ... \u001b[?25ldone\n",
      "\u001b[?25h  Getting requirements to build wheel ... \u001b[?25ldone\n",
      "\u001b[?25h    Preparing wheel metadata ... \u001b[?25ldone\n",
      "\u001b[?25hRequirement already satisfied: torchmetrics in /home/jovyan/conda/lib/python3.8/site-packages (from lightning-flash[image]) (0.4.1)\n",
      "Requirement already satisfied: pyDeprecate in /home/jovyan/conda/lib/python3.8/site-packages (from lightning-flash[image]) (0.3.1)\n",
      "Requirement already satisfied: click>=7.1.2 in /home/jovyan/conda/lib/python3.8/site-packages (from lightning-flash[image]) (7.1.2)\n",
      "Requirement already satisfied: pandas<1.3.0 in /home/jovyan/conda/lib/python3.8/site-packages (from lightning-flash[image]) (1.2.5)\n",
      "Requirement already satisfied: packaging in /home/jovyan/conda/lib/python3.8/site-packages (from lightning-flash[image]) (20.7)\n",
      "Requirement already satisfied: tqdm in /home/jovyan/conda/lib/python3.8/site-packages (from lightning-flash[image]) (4.42.1)\n",
      "Requirement already satisfied: jsonargparse[signatures]>=3.17.0 in /home/jovyan/conda/lib/python3.8/site-packages (from lightning-flash[image]) (3.17.0)\n",
      "Requirement already satisfied: numpy in /home/jovyan/conda/lib/python3.8/site-packages (from lightning-flash[image]) (1.19.5)\n",
      "Requirement already satisfied: torch in /home/jovyan/conda/lib/python3.8/site-packages (from lightning-flash[image]) (1.9.0)\n",
      "Requirement already satisfied: pytorch-lightning>=1.4.0rc0 in /home/jovyan/conda/lib/python3.8/site-packages (from lightning-flash[image]) (1.4.0)\n",
      "Requirement already satisfied: PyYAML>=5.1 in /home/jovyan/conda/lib/python3.8/site-packages (from lightning-flash[image]) (5.3.1)\n",
      "Requirement already satisfied: Pillow>=7.2 in /home/jovyan/conda/lib/python3.8/site-packages (from lightning-flash[image]) (8.3.1)\n",
      "Requirement already satisfied: segmentation-models-pytorch in /home/jovyan/conda/lib/python3.8/site-packages (from lightning-flash[image]) (0.2.0)\n",
      "Requirement already satisfied: torchvision in /home/jovyan/conda/lib/python3.8/site-packages (from lightning-flash[image]) (0.10.0)\n",
      "Requirement already satisfied: pystiche==1.* in /home/jovyan/conda/lib/python3.8/site-packages (from lightning-flash[image]) (1.0.0.post0)\n",
      "Requirement already satisfied: kornia<0.5.4,>=0.5.1 in /home/jovyan/conda/lib/python3.8/site-packages (from lightning-flash[image]) (0.5.3)\n",
      "Requirement already satisfied: timm>=0.4.5 in /home/jovyan/conda/lib/python3.8/site-packages (from lightning-flash[image]) (0.4.12)\n",
      "Requirement already satisfied: lightning-bolts>=0.3.3 in /home/jovyan/conda/lib/python3.8/site-packages (from lightning-flash[image]) (0.3.4)\n",
      "Requirement already satisfied: docstring-parser>=0.7.3 in /home/jovyan/conda/lib/python3.8/site-packages (from jsonargparse[signatures]>=3.17.0->lightning-flash[image]) (0.10)\n",
      "Requirement already satisfied: python-dateutil>=2.7.3 in /home/jovyan/conda/lib/python3.8/site-packages (from pandas<1.3.0->lightning-flash[image]) (2.8.0)\n",
      "Requirement already satisfied: pytz>=2017.3 in /home/jovyan/conda/lib/python3.8/site-packages (from pandas<1.3.0->lightning-flash[image]) (2020.1)\n",
      "Requirement already satisfied: six>=1.5 in /home/jovyan/conda/lib/python3.8/site-packages (from python-dateutil>=2.7.3->pandas<1.3.0->lightning-flash[image]) (1.15.0)\n",
      "Requirement already satisfied: fsspec[http]!=2021.06.0,>=2021.05.0 in /home/jovyan/conda/lib/python3.8/site-packages (from pytorch-lightning>=1.4.0rc0->lightning-flash[image]) (2021.7.0)\n",
      "Requirement already satisfied: future>=0.17.1 in /home/jovyan/conda/lib/python3.8/site-packages (from pytorch-lightning>=1.4.0rc0->lightning-flash[image]) (0.18.2)\n",
      "Requirement already satisfied: tensorboard!=2.5.0,>=2.2.0 in /home/jovyan/conda/lib/python3.8/site-packages (from pytorch-lightning>=1.4.0rc0->lightning-flash[image]) (2.4.1)\n",
      "Requirement already satisfied: typing-extensions in /home/jovyan/conda/lib/python3.8/site-packages (from pytorch-lightning>=1.4.0rc0->lightning-flash[image]) (3.7.4.3)\n",
      "Requirement already satisfied: requests in /home/jovyan/conda/lib/python3.8/site-packages (from fsspec[http]!=2021.06.0,>=2021.05.0->pytorch-lightning>=1.4.0rc0->lightning-flash[image]) (2.24.0)\n",
      "Requirement already satisfied: aiohttp in /home/jovyan/conda/lib/python3.8/site-packages (from fsspec[http]!=2021.06.0,>=2021.05.0->pytorch-lightning>=1.4.0rc0->lightning-flash[image]) (3.6.2)\n",
      "Requirement already satisfied: pyparsing>=2.0.2 in /home/jovyan/conda/lib/python3.8/site-packages (from packaging->lightning-flash[image]) (2.4.7)\n",
      "Requirement already satisfied: markdown>=2.6.8 in /home/jovyan/conda/lib/python3.8/site-packages (from tensorboard!=2.5.0,>=2.2.0->pytorch-lightning>=1.4.0rc0->lightning-flash[image]) (3.3.4)\n",
      "Requirement already satisfied: google-auth<2,>=1.6.3 in /home/jovyan/conda/lib/python3.8/site-packages (from tensorboard!=2.5.0,>=2.2.0->pytorch-lightning>=1.4.0rc0->lightning-flash[image]) (1.22.0)\n",
      "Requirement already satisfied: tensorboard-plugin-wit>=1.6.0 in /home/jovyan/conda/lib/python3.8/site-packages (from tensorboard!=2.5.0,>=2.2.0->pytorch-lightning>=1.4.0rc0->lightning-flash[image]) (1.8.0)\n",
      "Requirement already satisfied: google-auth-oauthlib<0.5,>=0.4.1 in /home/jovyan/conda/lib/python3.8/site-packages (from tensorboard!=2.5.0,>=2.2.0->pytorch-lightning>=1.4.0rc0->lightning-flash[image]) (0.4.4)\n",
      "Requirement already satisfied: grpcio>=1.24.3 in /home/jovyan/conda/lib/python3.8/site-packages (from tensorboard!=2.5.0,>=2.2.0->pytorch-lightning>=1.4.0rc0->lightning-flash[image]) (1.34.1)\n",
      "Requirement already satisfied: absl-py>=0.4 in /home/jovyan/conda/lib/python3.8/site-packages (from tensorboard!=2.5.0,>=2.2.0->pytorch-lightning>=1.4.0rc0->lightning-flash[image]) (0.13.0)\n",
      "Requirement already satisfied: setuptools>=41.0.0 in /home/jovyan/conda/lib/python3.8/site-packages (from tensorboard!=2.5.0,>=2.2.0->pytorch-lightning>=1.4.0rc0->lightning-flash[image]) (49.6.0.post20210108)\n",
      "Requirement already satisfied: werkzeug>=0.11.15 in /home/jovyan/conda/lib/python3.8/site-packages (from tensorboard!=2.5.0,>=2.2.0->pytorch-lightning>=1.4.0rc0->lightning-flash[image]) (2.0.1)\n",
      "Requirement already satisfied: wheel>=0.26 in /home/jovyan/conda/lib/python3.8/site-packages (from tensorboard!=2.5.0,>=2.2.0->pytorch-lightning>=1.4.0rc0->lightning-flash[image]) (0.36.2)\n",
      "Requirement already satisfied: protobuf>=3.6.0 in /home/jovyan/conda/lib/python3.8/site-packages (from tensorboard!=2.5.0,>=2.2.0->pytorch-lightning>=1.4.0rc0->lightning-flash[image]) (3.15.6)\n",
      "Requirement already satisfied: cachetools<5.0,>=2.0.0 in /home/jovyan/conda/lib/python3.8/site-packages (from google-auth<2,>=1.6.3->tensorboard!=2.5.0,>=2.2.0->pytorch-lightning>=1.4.0rc0->lightning-flash[image]) (4.1.1)\n",
      "Requirement already satisfied: rsa<5,>=3.1.4 in /home/jovyan/conda/lib/python3.8/site-packages (from google-auth<2,>=1.6.3->tensorboard!=2.5.0,>=2.2.0->pytorch-lightning>=1.4.0rc0->lightning-flash[image]) (4.5)\n",
      "Requirement already satisfied: pyasn1-modules>=0.2.1 in /home/jovyan/conda/lib/python3.8/site-packages (from google-auth<2,>=1.6.3->tensorboard!=2.5.0,>=2.2.0->pytorch-lightning>=1.4.0rc0->lightning-flash[image]) (0.2.8)\n",
      "Requirement already satisfied: multidict<5.0,>=4.5 in /home/jovyan/conda/lib/python3.8/site-packages (from aiohttp->fsspec[http]!=2021.06.0,>=2021.05.0->pytorch-lightning>=1.4.0rc0->lightning-flash[image]) (4.7.6)\n",
      "Requirement already satisfied: chardet<4.0,>=2.0 in /home/jovyan/conda/lib/python3.8/site-packages (from aiohttp->fsspec[http]!=2021.06.0,>=2021.05.0->pytorch-lightning>=1.4.0rc0->lightning-flash[image]) (3.0.4)\n",
      "Requirement already satisfied: async-timeout<4.0,>=3.0 in /home/jovyan/conda/lib/python3.8/site-packages (from aiohttp->fsspec[http]!=2021.06.0,>=2021.05.0->pytorch-lightning>=1.4.0rc0->lightning-flash[image]) (3.0.1)\n",
      "Requirement already satisfied: attrs>=17.3.0 in /home/jovyan/conda/lib/python3.8/site-packages (from aiohttp->fsspec[http]!=2021.06.0,>=2021.05.0->pytorch-lightning>=1.4.0rc0->lightning-flash[image]) (20.2.0)\n",
      "Requirement already satisfied: yarl<2.0,>=1.0 in /home/jovyan/conda/lib/python3.8/site-packages (from aiohttp->fsspec[http]!=2021.06.0,>=2021.05.0->pytorch-lightning>=1.4.0rc0->lightning-flash[image]) (1.6.0)\n",
      "Requirement already satisfied: requests-oauthlib>=0.7.0 in /home/jovyan/conda/lib/python3.8/site-packages (from google-auth-oauthlib<0.5,>=0.4.1->tensorboard!=2.5.0,>=2.2.0->pytorch-lightning>=1.4.0rc0->lightning-flash[image]) (1.3.0)\n",
      "Requirement already satisfied: pyasn1<0.5.0,>=0.4.6 in /home/jovyan/conda/lib/python3.8/site-packages (from pyasn1-modules>=0.2.1->google-auth<2,>=1.6.3->tensorboard!=2.5.0,>=2.2.0->pytorch-lightning>=1.4.0rc0->lightning-flash[image]) (0.4.8)\n",
      "Requirement already satisfied: urllib3!=1.25.0,!=1.25.1,<1.26,>=1.21.1 in /home/jovyan/conda/lib/python3.8/site-packages (from requests->fsspec[http]!=2021.06.0,>=2021.05.0->pytorch-lightning>=1.4.0rc0->lightning-flash[image]) (1.25.10)\n",
      "Requirement already satisfied: certifi>=2017.4.17 in /home/jovyan/conda/lib/python3.8/site-packages (from requests->fsspec[http]!=2021.06.0,>=2021.05.0->pytorch-lightning>=1.4.0rc0->lightning-flash[image]) (2020.6.20)\n",
      "Requirement already satisfied: idna<3,>=2.5 in /home/jovyan/conda/lib/python3.8/site-packages (from requests->fsspec[http]!=2021.06.0,>=2021.05.0->pytorch-lightning>=1.4.0rc0->lightning-flash[image]) (2.10)\n",
      "Requirement already satisfied: oauthlib>=3.0.0 in /home/jovyan/conda/lib/python3.8/site-packages (from requests-oauthlib>=0.7.0->google-auth-oauthlib<0.5,>=0.4.1->tensorboard!=2.5.0,>=2.2.0->pytorch-lightning>=1.4.0rc0->lightning-flash[image]) (3.1.1)\n",
      "Requirement already satisfied: efficientnet-pytorch==0.6.3 in /home/jovyan/conda/lib/python3.8/site-packages (from segmentation-models-pytorch->lightning-flash[image]) (0.6.3)\n",
      "Requirement already satisfied: pretrainedmodels==0.7.4 in /home/jovyan/conda/lib/python3.8/site-packages (from segmentation-models-pytorch->lightning-flash[image]) (0.7.4)\n",
      "Requirement already satisfied: munch in /home/jovyan/conda/lib/python3.8/site-packages (from pretrainedmodels==0.7.4->segmentation-models-pytorch->lightning-flash[image]) (2.5.0)\n",
      "\u001b[33mWARNING: Ignoring invalid distribution -ornado (/home/jovyan/conda/lib/python3.8/site-packages)\u001b[0m\n",
      "\u001b[33mWARNING: Ignoring invalid distribution - (/home/jovyan/conda/lib/python3.8/site-packages)\u001b[0m\n",
      "\u001b[33mWARNING: Ignoring invalid distribution -ornado (/home/jovyan/conda/lib/python3.8/site-packages)\u001b[0m\n",
      "\u001b[33mWARNING: Ignoring invalid distribution - (/home/jovyan/conda/lib/python3.8/site-packages)\u001b[0m\n",
      "\u001b[33mWARNING: Ignoring invalid distribution -ornado (/home/jovyan/conda/lib/python3.8/site-packages)\u001b[0m\n",
      "\u001b[33mWARNING: Ignoring invalid distribution - (/home/jovyan/conda/lib/python3.8/site-packages)\u001b[0m\n",
      "\u001b[33mWARNING: Ignoring invalid distribution -ornado (/home/jovyan/conda/lib/python3.8/site-packages)\u001b[0m\n",
      "\u001b[33mWARNING: Ignoring invalid distribution - (/home/jovyan/conda/lib/python3.8/site-packages)\u001b[0m\n",
      "Note: you may need to restart the kernel to use updated packages.\n"
     ]
    }
   ],
   "source": [
    "%pip install lightning-grid --upgrade -q\n",
    "%pip install fiftyone -q\n",
    "import fiftyone\n",
    "%pip install lightning-flash[image] --force-reinstall -q\n",
    "%pip install 'git+https://github.com/PyTorchLightning/lightning-flash.git#egg=lightning-flash[image]'"
   ]
  },
  {
   "cell_type": "code",
   "execution_count": 2,
   "id": "14493147",
   "metadata": {},
   "outputs": [],
   "source": [
    "# https://github.com/streamlit/demo-self-driving/issues/17\n",
    "if 'google.colab' in str(get_ipython()):\n",
    "    import os\n",
    "    os.kill(os.getpid(), 9)"
   ]
  },
  {
   "cell_type": "code",
   "execution_count": 17,
   "id": "18e4baa9",
   "metadata": {},
   "outputs": [],
   "source": [
    "import flash\n",
    "from flash.core.data.utils import download_data\n",
    "from flash.image import ImageClassificationData, ImageClassifier\n"
   ]
  },
  {
   "cell_type": "code",
   "execution_count": 4,
   "id": "4ea378e2",
   "metadata": {},
   "outputs": [
    {
     "name": "stderr",
     "output_type": "stream",
     "text": [
      "/home/jovyan/conda/lib/python3.8/site-packages/urllib3/connectionpool.py:981: InsecureRequestWarning: Unverified HTTPS request is being made to host 'pl-flash-data.s3.amazonaws.com'. Adding certificate verification is strongly advised. See: https://urllib3.readthedocs.io/en/latest/advanced-usage.html#ssl-warnings\n",
      "  warnings.warn(\n"
     ]
    }
   ],
   "source": [
    "download_data(\"https://pl-flash-data.s3.amazonaws.com/hymenoptera_data.zip\", 'data/')"
   ]
  },
  {
   "cell_type": "code",
   "execution_count": 18,
   "id": "83f99f19",
   "metadata": {},
   "outputs": [],
   "source": [
    "\n",
    "datamodule = ImageClassificationData.from_folders(\n",
    "    train_folder=\"/home/jovyan/mlproject/FlowerClassification/flower-dataset/train/\",\n",
    "    val_folder=\"/home/jovyan/mlproject/FlowerClassification/flower-dataset/val/\",\n",
    "    test_folder=\"/home/jovyan/mlproject/FlowerClassification/flower-dataset/test/\",\n",
    ")"
   ]
  },
  {
   "cell_type": "code",
   "execution_count": 19,
   "id": "0c07560c",
   "metadata": {},
   "outputs": [
    {
     "name": "stdout",
     "output_type": "stream",
     "text": [
      "ants  bees\n"
     ]
    }
   ],
   "source": [
    "!ls data/hymenoptera_data/train/\n"
   ]
  },
  {
   "cell_type": "code",
   "execution_count": 20,
   "id": "a5ff8fa5",
   "metadata": {},
   "outputs": [],
   "source": [
    "model = ImageClassifier(num_classes=datamodule.num_classes)"
   ]
  },
  {
   "cell_type": "code",
   "execution_count": 8,
   "id": "dfb989fa",
   "metadata": {},
   "outputs": [
    {
     "name": "stdout",
     "output_type": "stream",
     "text": [
      "GPU available: False, used: False\n",
      "TPU available: False, using: 0 TPU cores\n",
      "IPU available: False, using: 0 IPUs\n"
     ]
    }
   ],
   "source": [
    "trainer = flash.Trainer(max_epochs=3)"
   ]
  },
  {
   "cell_type": "code",
   "execution_count": 21,
   "id": "3bd178f8",
   "metadata": {},
   "outputs": [
    {
     "name": "stdout",
     "output_type": "stream",
     "text": [
      "\n",
      "  | Name          | Type       | Params\n",
      "---------------------------------------------\n",
      "0 | train_metrics | ModuleDict | 0     \n",
      "1 | val_metrics   | ModuleDict | 0     \n",
      "2 | backbone      | ResNet     | 11.2 M\n",
      "3 | head          | Sequential | 2.6 K \n",
      "---------------------------------------------\n",
      "12.2 K    Trainable params\n",
      "11.2 M    Non-trainable params\n",
      "11.2 M    Total params\n",
      "44.716    Total estimated model params size (MB)\n"
     ]
    },
    {
     "data": {
      "application/vnd.jupyter.widget-view+json": {
       "model_id": "",
       "version_major": 2,
       "version_minor": 0
      },
      "text/plain": [
       "HBox(children=(FloatProgress(value=1.0, bar_style='info', description='Validation sanity check', layout=Layout…"
      ]
     },
     "metadata": {},
     "output_type": "display_data"
    },
    {
     "name": "stderr",
     "output_type": "stream",
     "text": [
      "/home/jovyan/conda/lib/python3.8/site-packages/torch/nn/functional.py:3609: UserWarning: Default upsampling behavior when mode=bilinear is changed to align_corners=False since 0.4.0. Please specify align_corners=True if the old behavior is desired. See the documentation of nn.Upsample for details.\n",
      "  warnings.warn(\n",
      "/home/jovyan/conda/lib/python3.8/site-packages/torch/nn/functional.py:3609: UserWarning: Default upsampling behavior when mode=bilinear is changed to align_corners=False since 0.4.0. Please specify align_corners=True if the old behavior is desired. See the documentation of nn.Upsample for details.\n",
      "  warnings.warn(\n"
     ]
    },
    {
     "name": "stdout",
     "output_type": "stream",
     "text": [
      "\r"
     ]
    },
    {
     "data": {
      "application/vnd.jupyter.widget-view+json": {
       "model_id": "63b775e8d3b84b8794fc255f519a8e91",
       "version_major": 2,
       "version_minor": 0
      },
      "text/plain": [
       "HBox(children=(FloatProgress(value=1.0, bar_style='info', description='Training', layout=Layout(flex='2'), max…"
      ]
     },
     "metadata": {},
     "output_type": "display_data"
    },
    {
     "name": "stderr",
     "output_type": "stream",
     "text": [
      "/home/jovyan/conda/lib/python3.8/site-packages/torch/nn/functional.py:3609: UserWarning: Default upsampling behavior when mode=bilinear is changed to align_corners=False since 0.4.0. Please specify align_corners=True if the old behavior is desired. See the documentation of nn.Upsample for details.\n",
      "  warnings.warn(\n",
      "/home/jovyan/conda/lib/python3.8/site-packages/torch/nn/functional.py:3609: UserWarning: Default upsampling behavior when mode=bilinear is changed to align_corners=False since 0.4.0. Please specify align_corners=True if the old behavior is desired. See the documentation of nn.Upsample for details.\n",
      "  warnings.warn(\n"
     ]
    },
    {
     "data": {
      "application/vnd.jupyter.widget-view+json": {
       "model_id": "",
       "version_major": 2,
       "version_minor": 0
      },
      "text/plain": [
       "HBox(children=(FloatProgress(value=1.0, bar_style='info', description='Validating', layout=Layout(flex='2'), m…"
      ]
     },
     "metadata": {},
     "output_type": "display_data"
    },
    {
     "name": "stderr",
     "output_type": "stream",
     "text": [
      "/home/jovyan/conda/lib/python3.8/site-packages/torch/nn/functional.py:3609: UserWarning: Default upsampling behavior when mode=bilinear is changed to align_corners=False since 0.4.0. Please specify align_corners=True if the old behavior is desired. See the documentation of nn.Upsample for details.\n",
      "  warnings.warn(\n",
      "/home/jovyan/conda/lib/python3.8/site-packages/torch/nn/functional.py:3609: UserWarning: Default upsampling behavior when mode=bilinear is changed to align_corners=False since 0.4.0. Please specify align_corners=True if the old behavior is desired. See the documentation of nn.Upsample for details.\n",
      "  warnings.warn(\n"
     ]
    },
    {
     "name": "stdout",
     "output_type": "stream",
     "text": [
      "\n"
     ]
    }
   ],
   "source": [
    "trainer.finetune(model, datamodule=datamodule, strategy=\"freeze_unfreeze\")"
   ]
  },
  {
   "cell_type": "code",
   "execution_count": 10,
   "id": "c35007e4",
   "metadata": {},
   "outputs": [
    {
     "name": "stderr",
     "output_type": "stream",
     "text": [
      "/home/jovyan/conda/lib/python3.8/site-packages/pytorch_lightning/core/datamodule.py:423: LightningDeprecationWarning: DataModule.prepare_data has already been called, so it will not be called again. In v1.6 this behavior will change to always call DataModule.prepare_data.\n",
      "  rank_zero_deprecation(\n"
     ]
    },
    {
     "data": {
      "application/vnd.jupyter.widget-view+json": {
       "model_id": "57c1950f0b5d4138b01e0095d9bd8188",
       "version_major": 2,
       "version_minor": 0
      },
      "text/plain": [
       "HBox(children=(FloatProgress(value=1.0, bar_style='info', description='Testing', layout=Layout(flex='2'), max=…"
      ]
     },
     "metadata": {},
     "output_type": "display_data"
    },
    {
     "name": "stderr",
     "output_type": "stream",
     "text": [
      "/home/jovyan/conda/lib/python3.8/site-packages/torch/nn/functional.py:3609: UserWarning: Default upsampling behavior when mode=bilinear is changed to align_corners=False since 0.4.0. Please specify align_corners=True if the old behavior is desired. See the documentation of nn.Upsample for details.\n",
      "  warnings.warn(\n",
      "/home/jovyan/conda/lib/python3.8/site-packages/torch/nn/functional.py:3609: UserWarning: Default upsampling behavior when mode=bilinear is changed to align_corners=False since 0.4.0. Please specify align_corners=True if the old behavior is desired. See the documentation of nn.Upsample for details.\n",
      "  warnings.warn(\n"
     ]
    },
    {
     "name": "stdout",
     "output_type": "stream",
     "text": [
      "--------------------------------------------------------------------------------\n",
      "DATALOADER:0 TEST RESULTS\n",
      "{'test_accuracy': 0.9011628031730652, 'test_cross_entropy': 0.2740955054759979}\n",
      "--------------------------------------------------------------------------------\n",
      "\n"
     ]
    },
    {
     "data": {
      "text/plain": [
       "[{'test_accuracy': 0.9011628031730652,\n",
       "  'test_cross_entropy': 0.2740955054759979}]"
      ]
     },
     "execution_count": 10,
     "metadata": {},
     "output_type": "execute_result"
    }
   ],
   "source": [
    "trainer.test()"
   ]
  },
  {
   "cell_type": "code",
   "execution_count": 23,
   "id": "1fbd73e4",
   "metadata": {},
   "outputs": [],
   "source": [
    "trainer.save_checkpoint(\"image_classification_model.pt\")"
   ]
  },
  {
   "cell_type": "code",
   "execution_count": 1,
   "id": "191ae287",
   "metadata": {},
   "outputs": [
    {
     "ename": "NameError",
     "evalue": "name 'Labels' is not defined",
     "output_type": "error",
     "traceback": [
      "\u001b[0;31m---------------------------------------------------------------------------\u001b[0m",
      "\u001b[0;31mNameError\u001b[0m                                 Traceback (most recent call last)",
      "\u001b[0;32m/tmp/ipykernel_209/3814902636.py\u001b[0m in \u001b[0;36m<module>\u001b[0;34m\u001b[0m\n\u001b[0;32m----> 1\u001b[0;31m \u001b[0mmodel\u001b[0m\u001b[0;34m.\u001b[0m\u001b[0mserializer\u001b[0m \u001b[0;34m=\u001b[0m \u001b[0mLabels\u001b[0m\u001b[0;34m(\u001b[0m\u001b[0;34m)\u001b[0m\u001b[0;34m\u001b[0m\u001b[0;34m\u001b[0m\u001b[0m\n\u001b[0m\u001b[1;32m      2\u001b[0m \u001b[0;34m\u001b[0m\u001b[0m\n\u001b[1;32m      3\u001b[0m predictions = model.predict(\n\u001b[1;32m      4\u001b[0m     [\n\u001b[1;32m      5\u001b[0m         \u001b[0;34m\"/home/jovyan/mlproject/FlowerClassification/flower-dataset/val/roses/4644336779_acd973528c.jpg\"\u001b[0m\u001b[0;34m,\u001b[0m\u001b[0;34m\u001b[0m\u001b[0;34m\u001b[0m\u001b[0m\n",
      "\u001b[0;31mNameError\u001b[0m: name 'Labels' is not defined"
     ]
    }
   ],
   "source": [
    "model.serializer = Labels()\n",
    "\n",
    "predictions = model.predict(\n",
    "    [\n",
    "        \"/home/jovyan/mlproject/FlowerClassification/flower-dataset/val/roses/4644336779_acd973528c.jpg\",\n",
    "        \"/home/jovyan/mlproject/FlowerClassification/flower-dataset/val/tulips/2436998042_4906ea07af.jpg\",\n",
    "    ]\n",
    ")\n",
    "print(predictions)"
   ]
  },
  {
   "cell_type": "code",
   "execution_count": null,
   "id": "c41e0dd6",
   "metadata": {},
   "outputs": [],
   "source": []
  }
 ],
 "metadata": {
  "kernelspec": {
   "display_name": "Python 3 (ipykernel)",
   "language": "python",
   "name": "python3"
  },
  "language_info": {
   "codemirror_mode": {
    "name": "ipython",
    "version": 3
   },
   "file_extension": ".py",
   "mimetype": "text/x-python",
   "name": "python",
   "nbconvert_exporter": "python",
   "pygments_lexer": "ipython3",
   "version": "3.8.8"
  }
 },
 "nbformat": 4,
 "nbformat_minor": 5
}
